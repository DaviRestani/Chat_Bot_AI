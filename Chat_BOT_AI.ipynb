{
  "nbformat": 4,
  "nbformat_minor": 0,
  "metadata": {
    "colab": {
      "provenance": [],
      "mount_file_id": "1stjGypDlBWXlwaH_-12-g4J3KNUywuGk",
      "authorship_tag": "ABX9TyMo/QilscO9uJc8ypDNhPh0",
      "include_colab_link": true
    },
    "kernelspec": {
      "name": "python3",
      "display_name": "Python 3"
    },
    "language_info": {
      "name": "python"
    }
  },
  "cells": [
    {
      "cell_type": "markdown",
      "metadata": {
        "id": "view-in-github",
        "colab_type": "text"
      },
      "source": [
        "<a href=\"https://colab.research.google.com/github/DaviRestani/Chat_Bot_AI/blob/main/Chat_BOT_AI.ipynb\" target=\"_parent\"><img src=\"https://colab.research.google.com/assets/colab-badge.svg\" alt=\"Open In Colab\"/></a>"
      ]
    },
    {
      "cell_type": "markdown",
      "source": [
        "Instalando o SDK do Google"
      ],
      "metadata": {
        "id": "64ywH8r-qUgW"
      }
    },
    {
      "cell_type": "code",
      "execution_count": null,
      "metadata": {
        "id": "D3bmnyblnS80"
      },
      "outputs": [],
      "source": [
        "!pip install -q -U google-generativeai"
      ]
    },
    {
      "cell_type": "code",
      "source": [
        "# Import the Python SDK\n",
        "import google.generativeai as genai\n",
        "from google.colab import userdata\n",
        "api_key = userdata.get(\"SECRET_KEY\")\n",
        "GOOGLE_API_KEY = api_key\n",
        "genai.configure(api_key=GOOGLE_API_KEY)"
      ],
      "metadata": {
        "id": "Fyb9QNJlqlCB"
      },
      "execution_count": null,
      "outputs": []
    },
    {
      "cell_type": "markdown",
      "source": [
        "Listar os modelos disponíveis"
      ],
      "metadata": {
        "id": "cf4cqWRrrnp9"
      }
    },
    {
      "cell_type": "code",
      "source": [
        "for m in genai.list_models():\n",
        "  if 'generateContent' in m.supported_generation_methods:\n",
        "    print(m.name)"
      ],
      "metadata": {
        "colab": {
          "base_uri": "https://localhost:8080/",
          "height": 139
        },
        "id": "XaarOmtzrref",
        "outputId": "8560be46-900e-4850-eee0-c35a43ebd954"
      },
      "execution_count": null,
      "outputs": [
        {
          "output_type": "stream",
          "name": "stdout",
          "text": [
            "models/gemini-1.0-pro\n",
            "models/gemini-1.0-pro-001\n",
            "models/gemini-1.0-pro-latest\n",
            "models/gemini-1.0-pro-vision-latest\n",
            "models/gemini-1.5-pro-latest\n",
            "models/gemini-pro\n",
            "models/gemini-pro-vision\n"
          ]
        }
      ]
    },
    {
      "cell_type": "code",
      "source": [
        "generation_config = {\n",
        "    \"candidate_count\": 1,\n",
        "    \"temperature\": 0.5\n",
        "}"
      ],
      "metadata": {
        "id": "VULsG-UOtedv"
      },
      "execution_count": null,
      "outputs": []
    },
    {
      "cell_type": "code",
      "source": [
        "safety_settings = {\n",
        "    \"HARASSMENT\": \"BLOCK_NONE\",\n",
        "    \"HATE\": \"BLOCK_NONE\",\n",
        "    \"SEXUAL\": \"BLOCK_NONE\",\n",
        "    \"DANGEROUS\": \"BLOCK_NONE\",\n",
        "}"
      ],
      "metadata": {
        "id": "0OPss2J7uLCF"
      },
      "execution_count": null,
      "outputs": []
    },
    {
      "cell_type": "markdown",
      "source": [
        "Inicializando o modelo"
      ],
      "metadata": {
        "id": "oYMNKymNvQRo"
      }
    },
    {
      "cell_type": "code",
      "source": [
        "model = genai.GenerativeModel(model_name=\"gemini-1.0-pro\",\n",
        "                              generation_config=generation_config,\n",
        "                              safety_settings=safety_settings)"
      ],
      "metadata": {
        "id": "P38DBwUvvTFY"
      },
      "execution_count": null,
      "outputs": []
    },
    {
      "cell_type": "code",
      "source": [
        "response = model.generate_content(\"Vou aprender sobre Inteligência Artificial. Me dê sugestões\")\n",
        "print(response.text)"
      ],
      "metadata": {
        "colab": {
          "base_uri": "https://localhost:8080/",
          "height": 694
        },
        "id": "85EvQ_SywLLA",
        "outputId": "8daa0248-d5e1-4859-8d4e-fd971b998e2b"
      },
      "execution_count": null,
      "outputs": [
        {
          "output_type": "stream",
          "name": "stdout",
          "text": [
            "**Cursos e Certificações Online:**\n",
            "\n",
            "* **Coursera:** Especialização em Aprendizado de Máquina, Especialização em Inteligência Artificial\n",
            "* **edX:** Curso de Ciência da Computação para Inteligência Artificial, Curso de Aprendizado Profundo para Inteligência Artificial\n",
            "* **Udemy:** Curso de Inteligência Artificial para Iniciantes, Curso de Aprendizado de Máquina com Python\n",
            "* **LinkedIn Learning:** Curso de Fundamentos de Inteligência Artificial, Curso de Aprendizado de Máquina para Negócios\n",
            "* **Google Cloud:** Certificação de Profissional de Aprendizado de Máquina, Certificação de Arquiteto de Soluções de Inteligência Artificial\n",
            "\n",
            "**Livros:**\n",
            "\n",
            "* \"Inteligência Artificial: Uma Abordagem Moderna\" de Stuart Russell e Peter Norvig\n",
            "* \"Aprendizado de Máquina\" de Tom Mitchell\n",
            "* \"Aprendizado Profundo\" de Ian Goodfellow, Yoshua Bengio e Aaron Courville\n",
            "* \"Inteligência Artificial: Uma Introdução\" de Kevin Warwick\n",
            "* \"Inteligência Artificial para Todos\" de Andrew Ng\n",
            "\n",
            "**Recursos Online:**\n",
            "\n",
            "* **MIT OpenCourseWare:** Curso de Inteligência Artificial\n",
            "* **Stanford Online:** Curso de Aprendizado de Máquina\n",
            "* **Kaggle:** Comunidade de aprendizado de máquina e ciência de dados\n",
            "* **TensorFlow:** Biblioteca de código aberto para aprendizado de máquina\n",
            "* **PyTorch:** Biblioteca de código aberto para aprendizado de máquina\n",
            "\n",
            "**Eventos e Conferências:**\n",
            "\n",
            "* **Conferência Internacional sobre Aprendizado de Máquina (ICML)**\n",
            "* **Conferência Internacional sobre Inteligência Artificial (IJCAI)**\n",
            "* **Conferência sobre Sistemas de Processamento de Informação Neural (NeurIPS)**\n",
            "* **Conferência sobre Visão Computacional e Reconhecimento de Padrões (CVPR)**\n",
            "* **Conferência sobre Inteligência Artificial e Simulação (AI*IA)**\n",
            "\n",
            "**Grupos e Comunidades:**\n",
            "\n",
            "* **Associação para o Avanço da Inteligência Artificial (AAAI)**\n",
            "* **Instituto de Engenheiros Elétricos e Eletrônicos (IEEE)** Sociedade de Inteligência Computacional\n",
            "* **Sociedade Internacional de Aprendizado de Máquina (ISML)**\n",
            "* **Comunidade de Inteligência Artificial do Reddit**\n",
            "* **Comunidade de Aprendizado de Máquina do Discord**\n"
          ]
        }
      ]
    },
    {
      "cell_type": "code",
      "source": [
        "chat = model.start_chat(history=[])"
      ],
      "metadata": {
        "id": "O0w8wuUd2xma"
      },
      "execution_count": null,
      "outputs": []
    },
    {
      "cell_type": "code",
      "source": [
        "prompt = input(\"Esperando prompt: \")\n",
        "\n",
        "while prompt != \"fim\":\n",
        "  response = chat.send_message(prompt)\n",
        "  print(\"Resposta: \", response.text, \"\\n\")\n",
        "  prompt = input(\"Esperando prompt: \")"
      ],
      "metadata": {
        "colab": {
          "base_uri": "https://localhost:8080/",
          "height": 243
        },
        "id": "rp6PCbRm3XiO",
        "outputId": "b46ed5b3-4343-44de-c5b2-e815434a90ad"
      },
      "execution_count": null,
      "outputs": [
        {
          "name": "stdout",
          "output_type": "stream",
          "text": [
            "Esperando prompt: Qual é a capital da Geórgia?\n",
            "Resposta:  Tbilisi \n",
            "\n",
            "Esperando prompt: Qual é a comida típica desse país?\n",
            "Resposta:  Khinkali \n",
            "\n",
            "Esperando prompt: O meu primo nasceu nessa cidade. Qual é a nacionalidade dele?\n",
            "Resposta:  Georgiano \n",
            "\n",
            "Esperando prompt: E qual é a população dessa cidade?\n",
            "Resposta:  1.108.718 (2021) \n",
            "\n",
            "Esperando prompt: fim\n"
          ]
        }
      ]
    },
    {
      "cell_type": "code",
      "source": [],
      "metadata": {
        "id": "kPgw-_Hb5mRG"
      },
      "execution_count": null,
      "outputs": []
    }
  ]
}